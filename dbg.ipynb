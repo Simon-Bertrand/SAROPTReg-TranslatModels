{
 "cells": [
  {
   "cell_type": "code",
   "execution_count": 6,
   "id": "2a246eed",
   "metadata": {},
   "outputs": [],
   "source": [
    "import glob\n",
    "import torch\n",
    "\n",
    "weights_folder = r'B:\\dev\\repos\\code\\SAROPTReg-Insights\\models\\saroptreg_models\\weights'\n",
    "pt_files = glob.glob(f\"{weights_folder}/*.pt\")\n",
    "\n",
    "weights = {}\n",
    "for pt_file in pt_files:\n",
    "    model_name = pt_file.split(\"\\\\\")[-1]\n",
    "    weights[model_name] = torch.load(pt_file, map_location='cpu')\n",
    "    weights[model_name] =  weights[model_name]['model_state_dict']\n",
    "    new_pt_file = pt_file.replace('.pt', '_state_dict.pt')\n",
    "    torch.save(weights[model_name], new_pt_file)"
   ]
  },
  {
   "cell_type": "code",
   "execution_count": 5,
   "id": "6668ccff",
   "metadata": {},
   "outputs": [
    {
     "data": {
      "text/plain": [
       "dict_keys(['original_fftunet.pt', 'original_marunet.pt', 'original_mcgf.pt', 'original_osmnet.pt'])"
      ]
     },
     "execution_count": 5,
     "metadata": {},
     "output_type": "execute_result"
    }
   ],
   "source": [
    "weights.keys()"
   ]
  }
 ],
 "metadata": {
  "kernelspec": {
   "display_name": ".venv",
   "language": "python",
   "name": "python3"
  },
  "language_info": {
   "codemirror_mode": {
    "name": "ipython",
    "version": 3
   },
   "file_extension": ".py",
   "mimetype": "text/x-python",
   "name": "python",
   "nbconvert_exporter": "python",
   "pygments_lexer": "ipython3",
   "version": "3.12.0"
  }
 },
 "nbformat": 4,
 "nbformat_minor": 5
}
